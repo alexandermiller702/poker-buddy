{
 "metadata": {
  "name": "pcapy_test"
 }, 
 "nbformat": 2, 
 "worksheets": [
  {
   "cells": [
    {
     "cell_type": "code", 
     "collapsed": false, 
     "input": [
      "import pcapy", 
      "dir(pcapy)"
     ], 
     "language": "python", 
     "outputs": [
      {
       "output_type": "pyout", 
       "prompt_number": 1, 
       "text": [
        "['DLT_ARCNET',", 
        " 'DLT_ATM_RFC1483',", 
        " 'DLT_C_HDLC',", 
        " 'DLT_EN10MB',", 
        " 'DLT_FDDI',", 
        " 'DLT_IEEE802',", 
        " 'DLT_IEEE802_11',", 
        " 'DLT_LINUX_SLL',", 
        " 'DLT_LOOP',", 
        " 'DLT_LTALK',", 
        " 'DLT_NULL',", 
        " 'DLT_PPP',", 
        " 'DLT_PPP_ETHER',", 
        " 'DLT_PPP_SERIAL',", 
        " 'DLT_RAW',", 
        " 'DLT_SLIP',", 
        " 'PcapError',", 
        " '__doc__',", 
        " '__file__',", 
        " '__name__',", 
        " '__package__',", 
        " 'compile',", 
        " 'findalldevs',", 
        " 'lookupdev',", 
        " 'open_live',", 
        " 'open_offline']"
       ]
      }
     ], 
     "prompt_number": 1
    }, 
    {
     "cell_type": "code", 
     "collapsed": false, 
     "input": [
      "pcapy.findalldevs()"
     ], 
     "language": "python", 
     "outputs": [
      {
       "ename": "PcapError", 
       "evalue": "No valid interfaces to open", 
       "output_type": "pyerr", 
       "traceback": [
        "\u001b[0;31m---------------------------------------------------------------------------\u001b[0m\n\u001b[0;31mPcapError\u001b[0m                                 Traceback (most recent call last)", 
        "\u001b[0;32m/home/roger/.gvfs/hdd on 192.168.1.13/HDD1/router/poker-buddy/<ipython-input-2-04e00b266e9a>\u001b[0m in \u001b[0;36m<module>\u001b[0;34m()\u001b[0m\n\u001b[0;32m----> 1\u001b[0;31m \u001b[0mpcapy\u001b[0m\u001b[0;34m.\u001b[0m\u001b[0mfindalldevs\u001b[0m\u001b[0;34m(\u001b[0m\u001b[0;34m)\u001b[0m\u001b[0;34m\u001b[0m\u001b[0m\n\u001b[0m", 
        "\u001b[0;31mPcapError\u001b[0m: No valid interfaces to open"
       ]
      }
     ], 
     "prompt_number": 2
    }, 
    {
     "cell_type": "code", 
     "collapsed": true, 
     "input": [], 
     "language": "python", 
     "outputs": []
    }
   ]
  }
 ]
}