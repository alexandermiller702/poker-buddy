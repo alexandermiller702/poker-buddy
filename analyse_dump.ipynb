{
 "metadata": {
  "name": "analyse_dump"
 }, 
 "nbformat": 2, 
 "worksheets": [
  {
   "cells": [
    {
     "cell_type": "code", 
     "collapsed": true, 
     "input": [
      "import re", 
      "f = open('poker3.txt')", 
      "#data = re.split(\"[|\\n]\", f.read())", 
      "data = re.split(\"[|]\", f.read())", 
      "data[:10]"
     ], 
     "language": "python", 
     "outputs": []
    }, 
    {
     "cell_type": "code", 
     "collapsed": false, 
     "input": [
      "from collections import Counter", 
      "Counter([s.split('=')[0] for s in data]).most_common(10)"
     ], 
     "language": "python", 
     "outputs": [
      {
       "output_type": "pyout", 
       "prompt_number": 29, 
       "text": [
        "[('Actions.~Count', 120),", 
        " ('MUIdServerAlazBeginOut', 119),", 
        " ('Actions0.~ActionType', 105),", 
        " ('Actions1.~ActionType', 98),", 
        " ('TableId', 95),", 
        " ('GameType', 94),", 
        " ('Actions0.PlayerAtSeat.PlayerId', 91),", 
        " ('Actions0.PlayerAtSeat.SeatId', 91),", 
        " ('Actions0.Action', 88),", 
        " ('Actions0.InGame', 88)]"
       ]
      }
     ], 
     "prompt_number": 29
    }, 
    {
     "cell_type": "code", 
     "collapsed": false, 
     "input": [
      "[s for s in data if re.findall(\"Cards[0-4]=[0-9]\", s)]"
     ], 
     "language": "python", 
     "outputs": [
      {
       "output_type": "pyout", 
       "prompt_number": 26, 
       "text": [
        "['Players1.Cards0=21',", 
        " 'Players1.Cards1=17',", 
        " 'Actions2.CommunityCards0=50',", 
        " 'Actions2.CommunityCards1=26',", 
        " 'Actions2.CommunityCards2=11',", 
        " 'Actions2.CommunityCards3=28',", 
        " 'Actions2.CommunityCards4=6',", 
        " 'Actions3.PlayersCards0.Cards0=12',", 
        " 'Actions3.PlayersCards0.Cards1=31',", 
        " 'Actions3.PlayersCards1.Cards0=48',", 
        " 'Actions3.PlayersC\\nards1.Cards1=9',", 
        " 'Actions3.PlayersCards2.Cards0=49',", 
        " 'Actions3.PlayersCards2.Cards1=24',", 
        " 'Actions4.Hands0.Cards0=6',", 
        " 'Actions4.Hands0.Cards1=11',", 
        " 'Actions4.Hands0.Cards2=24',", 
        " 'Actions4.Hands0.Cards3=49',", 
        " 'Actions4.Hands0.Cards4=50',", 
        " 'Players0.Cards0=51',", 
        " 'Players0.Cards1=7',", 
        " 'Actions2.CommunityCards0=47',", 
        " 'Actions2.CommunityCards1=36',", 
        " 'Actions2.CommunityCards2=16',", 
        " 'Actions2.CommunityCards0=47',", 
        " 'Actions2.CommunityCards1=36',", 
        " 'Actions2.CommunityCards2=16',", 
        " 'Actions2.CommunityCards3=42',", 
        " 'Players0.Cards0=35',", 
        " 'Players0.Cards1=23',", 
        " 'Actions2.CommunityCards0=21',", 
        " 'Actions2.CommunityCards1=24',", 
        " 'Actions2.CommunityCards2=26',", 
        " 'Players0.Cards0=12',", 
        " 'Players0.Cards1=44',", 
        " 'Actions2.CommunityCards0=20',", 
        " 'Actions2.CommunityCards1=35',", 
        " 'Actions2.CommunityCards2=51',", 
        " 'Actions2.CommunityCards0=20',", 
        " 'Actions2.CommunityCards1=35',", 
        " 'Actions2.CommunityCards2=51',", 
        " 'Actions2.CommunityCards3=7',", 
        " 'Actions2.CommunityCards0=20',", 
        " 'Actions2.CommunityCards1=35',", 
        " 'Actions2.CommunityCards2=51',", 
        " 'Actions2.CommunityCards3=7',", 
        " 'Actions2.CommunityCards4=8',", 
        " 'Actions2.CommunityCards0=20',", 
        " 'Actions2.CommunityCards1=35',", 
        " 'Actions2.CommunityCards2=51',", 
        " 'Actions2.CommunityCards3=7',", 
        " 'Actions2.CommunityCards4=8',", 
        " 'Actions3.PlayersCards0.Cards0=12',", 
        " 'Actions3.PlayersCards0.Cards1=44',", 
        " 'Actions4.Hands0.Cards0=7',", 
        " 'Actions4.Hands0.Cards1=12',", 
        " 'Actions4.Hands0.Cards2=20',", 
        " 'Actions4.Hands0.Cards3=35',", 
        " 'Actions4.Hands0.Cards4=51',", 
        " 'Players0.Cards0=28',", 
        " 'Players0.Cards1=29',", 
        " 'Actions2.CommunityCards0=34',", 
        " 'Actions2.CommunityCards1=27',", 
        " 'Actions2.CommunityCards2=48',", 
        " 'Actions2.CommunityCards0=34',", 
        " 'Actions2.CommunityCards1=27',", 
        " 'Actions2.CommunityCards2=48',", 
        " 'Actions2.CommunityCards3=36',", 
        " 'Players0.Cards0=1',", 
        " 'Players0.Cards1=27',", 
        " 'Actions2.CommunityCards0=26',", 
        " 'Actions2.CommunityCards1=36',", 
        " 'Actions2.CommunityCards2=41',", 
        " 'Players0.Cards0=40',", 
        " 'Players0.Cards1=18',", 
        " 'Actions2.CommunityCards0=25',", 
        " 'Actions2.CommunityCards1=12',", 
        " 'Actions2.CommunityCards2=5',", 
        " 'Actions2.CommunityCards0=25',", 
        " 'Actions2.CommunityCards1=12',", 
        " 'Actions2.CommunityCards2=5',", 
        " 'Actions2.CommunityCards3=38',", 
        " 'Players0.Cards0=20',", 
        " 'Players0.Cards1=43',", 
        " 'Actions2.CommunityCards0=14',", 
        " 'Actions2.CommunityCards1=23',", 
        " 'Actions2.CommunityCards2=47',", 
        " 'Actions2.CommunityCards0=14',", 
        " 'Actions2.CommunityCards1=23',", 
        " 'Actions2.CommunityCards2=47',", 
        " 'Actions2.CommunityCards3=25',", 
        " 'Actions2.CommunityCards0=14',", 
        " 'Actions2.CommunityCards1=23',", 
        " 'Actions2.CommunityCards2=47',", 
        " 'Actions2.CommunityCards3=25',", 
        " 'Actions2.CommunityCards4=34',", 
        " 'Players0.Cards0=2',", 
        " 'Players0.Cards1=29',", 
        " 'Actions2.CommunityCards0=22',", 
        " 'Actions2.CommunityCards1=37',", 
        " 'Actions2.CommunityCards2=21',", 
        " 'Actions2.CommunityCards0=22',", 
        " 'Actions2.CommunityCards1=37',", 
        " 'Actions2.CommunityCards2=21',", 
        " 'Actions2.CommunityCards3=51',", 
        " 'Actions2.CommunityCards0=22',", 
        " 'Actions2.CommunityCards1=37',", 
        " 'Actions2.CommunityCards2=21',", 
        " 'Actions2.CommunityCards3=51',", 
        " 'Actions2.CommunityCards4=1',", 
        " 'Actions2.CommunityCards0=22',", 
        " 'Actions2.CommunityCards1=37',", 
        " 'Actions2.CommunityCards2=21',", 
        " 'Actions2.CommunityCards3=51',", 
        " 'Actions2.CommunityCards4=1',", 
        " 'Actions3.PlayersCards0.Cards0=2',", 
        " 'Actions3.PlayersCards0.Cards1=29',", 
        " 'Actions3.PlayersCards1.Cards0=17',", 
        " 'Actions3.PlayersCards1.Cards1=34',", 
        " 'Actions3.PlayersCards2.Cards0=28',", 
        " 'Actions3.PlayersCards2.Cards1=42',", 
        " 'Actions4.Hands0.Cards0=21',", 
        " 'Actions4.Hands0.Cards1=22',", 
        " 'Actions4.Hands0.Cards2=34',", 
        " 'Actions4.Hands0.Cards3=37',", 
        " 'Actions4.Hands0.Cards4=51',", 
        " 'Players0.Cards0=47',", 
        " 'Players0.Cards1=51',", 
        " 'Actions2.CommunityCards0=44',", 
        " 'Actions2.CommunityCards1=46',", 
        " 'Actions2.CommunityCards2=6',", 
        " 'Actions2.CommunityCards0=44',", 
        " 'Actions2.CommunityCards1=46',", 
        " 'Actions2.CommunityCards2=6',", 
        " 'Actions2.CommunityCards3=26',", 
        " 'Actions2.CommunityCards4=31',", 
        " 'Actions3.PlayersCards0.Cards0=47',", 
        " 'Actions3.PlayersCards0.Cards1=51',", 
        " 'Actions3.PlayersCards1.Cards0=34',", 
        " 'Actions3.PlayersCa\\nrds1.Cards1=7',", 
        " 'Actions4.Hands0.Cards0=7',", 
        " 'Actions4.Hands0.Cards1=31',", 
        " 'Actions4.Hands0.Cards2=34',", 
        " 'Actions4.Hands0.Cards3=44',", 
        " 'Actions4.Hands0.Cards4=46']"
       ]
      }
     ], 
     "prompt_number": 26
    }, 
    {
     "cell_type": "code", 
     "collapsed": false, 
     "input": [
      "def cardmapper(val):", 
      "    vals = '23456789TJQKA'", 
      "    suits = 'cdhs'", 
      "    result = divmod(val, 13)", 
      "    return vals[result[1]] + suits[result[0]]", 
      "print cardmapper(44) # 7s", 
      "print cardmapper(21) # 10d", 
      "print cardmapper(17) # 6d", 
      "print cardmapper(51) # as", 
      "print cardmapper(7) # 9c", 
      "print cardmapper(0) # 2c"
     ], 
     "language": "python", 
     "outputs": [
      {
       "output_type": "stream", 
       "stream": "stdout", 
       "text": [
        "7s", 
        "td", 
        "6d", 
        "as", 
        "9c", 
        "2c"
       ]
      }
     ], 
     "prompt_number": 38
    }, 
    {
     "cell_type": "code", 
     "collapsed": true, 
     "input": [
      "from pokereval import PokerEval", 
      "e = PokerEval()"
     ], 
     "language": "python", 
     "outputs": [], 
     "prompt_number": 52
    }, 
    {
     "cell_type": "code", 
     "collapsed": false, 
     "input": [
      "e.poker_eval(game = \"holdem\",", 
      "                           pockets = [ [\"tc\", \"ac\"],  [\"__\", \"__\"],  [\"__\", \"__\"]],", 
      "                           dead = [],", 
      "                           board = [\"7h\", \"3s\", \"2c\", \"__\", \"__\"])"
     ], 
     "language": "python", 
     "outputs": [
      {
       "output_type": "pyout", 
       "prompt_number": 51, 
       "text": [
        "{'eval': [{'ev': 334,", 
        "   'losehi': 636938060,", 
        "   'loselo': 0,", 
        "   'scoop': 316875984,", 
        "   'tiehi': 12567526,", 
        "   'tielo': 0,", 
        "   'winhi': 316875984,", 
        "   'winlo': 0},", 
        "  {'ev': 332,", 
        "   'losehi': 638906644,", 
        "   'loselo': 0,", 
        "   'scoop': 315921819,", 
        "   'tiehi': 11553107,", 
        "   'tielo': 0,", 
        "   'winhi': 315921819,", 
        "   'winlo': 0},", 
        "  {'ev': 332,", 
        "   'losehi': 638906644,", 
        "   'loselo': 0,", 
        "   'scoop': 315921819,", 
        "   'tiehi': 11553107,", 
        "   'tielo': 0,", 
        "   'winhi': 315921819,", 
        "   'winlo': 0}],", 
        " 'info': (966381570, 0, 1)}"
       ]
      }
     ], 
     "prompt_number": 51
    }, 
    {
     "cell_type": "code", 
     "collapsed": false, 
     "input": [
      "tshark_str = \"\"\"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", 
      "", 
      "", 
      "", 
      "4d5549643d313335323037363135303137315f357c4c6f63616c6549643d313033337c7e4e616d653d546f757254797065737c47616d6549643d317c7e547970653d4765744c69737400", 
      "", 
      "7e547970653d4c6973747c7e4e616d653d546f757254797065737c456c656d656e74732e7e546f74616c4c6973743d327c456c656d656e74732e7e436f756e743d327c456c656d656e7473302e4e616d653d534954204e2720474f7c456c656d656e7473302e49643d317c456c656d656e7473302e47616d65424755726c3d7461626c6562672f67616d655f62675f7369746e676f2e6a70677c456c656d656e7473302e47616d65424756657273696f6e3d317c456c656d656e7473312e4e616d653d53484f4f544f55547c456c656d656e7473312e49643d327c456c656d656e7473312e47616d65424755726c3d7461626c6562672f67616d655f62675f73686f75742e6a70677c456c656d656e7473312e47616d65424756657273696f6e3d317c416374696f6e732e7e436f756e743d307c4d5549643d313335323037363135303137315f357c4d554964536572766572496e3d313335323035343535333532317c4d5549645365727665724f75743d313335323035343535333532317c4d554964536572766572416c617a426567696e4f75743d3133353230353435353335323100", 
      "", 
      "4d5549643d313335323037363135373730325f387c7e547970653d4765744163636f756e74496e666f00", 
      "", 
      "7e547970653d4163636f756e74496e666f7c4163636f756e7449643d62326336626333382d323839382d346630642d383136662d6330346265623566653266317c4e616d653d526f677c496d61676555726c3d687474703a2f2f67726170682e66616365626f6f6b2e636f6d2f3635393636363533312f706963747572653f747970652533446e6f726d616c7c48617346616365626f6f6b3d547275657c526567697374726174696f6e50726f63636573733d3130302532357c42616c616e63653d3131323332317c4469616d6f6e647342616c616e63653d3430307c7e416374696f6e547970653d557064617465506c61796572457870657269656e63657c5570706572457870657269656e63654c6576656c3d343030307c4c6f776572457870657269656e63654c6576656c3d307c457870657269656e63653d323635317c546f74616c457870657269656e63653d35323135317c506572696f646963457870657269656e63653d313935377c52616e6b3d32387c52616e6b56616c75653d32387c416374696f6e732e7e436f756e743d307c4d5549643d313335323037363135373730325f387c4d554964536572766572496e3d313335323035343535393130387c4d5549645365727665724f75743d313335323035343535393130387c4d554964536572766572416c617a426567696e4f75743d3133353230353435353931303800", 
      "\"\"\"", 
      "[s.decode(\"hex\") for s in tshark_str.split()]"
     ], 
     "language": "python", 
     "outputs": [
      {
       "output_type": "pyout", 
       "prompt_number": 55, 
       "text": [
        "['adGames.~Count=1|DownloadGames0.GameId=5|DownloadGames0.GameName=Slot City|DownloadGames0.DownloadLink=market://details?id%3Dcom.dragonplay.slotcity|DownloadGames0.ApplicationId=com.dragonplay.slotcity|DownloadGames0.Description=Download and Play our Slot City game and get your 10,000 poker gold instantly|DownloadGames0.IconUrl=icons/slotcity.png|DownloadGames0.NotifyAnyway=False|DynamicLinks.~Count=3|DynamicLinks0.Id=1041|DynamicLinks0.IconUrl=icons/happyhour500free_newcolor_usa2.png|DynamicLinks0.IconUrlVersion=1|DynamicLinks0.OrderIndex=1|DynamicLinks0.Action=Screen|DynamicLinks0.Param1=3|DynamicLinks0.Expires=1352059200000|DynamicLinks1.Id=3|DynamicLinks1.IconUrl=icons/leaderboard_btn.png|DynamicLinks1.IconUrlVersion=1|DynamicLinks1.OrderIndex=10|DynamicLinks1.Action=Leaderboard|DynamicLinks1.Param1=1|DynamicLinks2.Id=1|DynamicLinks2.IconUrl=icons/video_poker_btn.png|DynamicLinks2.IconUrlVersion=1|DynamicLinks2.OrderIndex=11|DynamicLinks2.Action=Notify|DynamicLinks2.Param1=Code%3D5%7CMessageId%3D1004|Popups.~Count=0|Actions.~Count=0|MUId=1352076151645_7|MUIdServerIn=1352054553063|MUIdServerOut=1352054553143|MUIdServerAlazBeginOut=1352054553143\\x00',", 
        " 'MUId=1352076150171_5|LocaleId=1033|~Name=TourTypes|GameId=1|~Type=GetList\\x00',", 
        " \"~Type=List|~Name=TourTypes|Elements.~TotalList=2|Elements.~Count=2|Elements0.Name=SIT N' GO|Elements0.Id=1|Elements0.GameBGUrl=tablebg/game_bg_sitngo.jpg|Elements0.GameBGVersion=1|Elements1.Name=SHOOTOUT|Elements1.Id=2|Elements1.GameBGUrl=tablebg/game_bg_shout.jpg|Elements1.GameBGVersion=1|Actions.~Count=0|MUId=1352076150171_5|MUIdServerIn=1352054553521|MUIdServerOut=1352054553521|MUIdServerAlazBeginOut=1352054553521\\x00\",", 
        " 'MUId=1352076157702_8|~Type=GetAccountInfo\\x00',", 
        " '~Type=AccountInfo|AccountId=b2c6bc38-2898-4f0d-816f-c04beb5fe2f1|Name=Rog|ImageUrl=http://graph.facebook.com/659666531/picture?type%3Dnormal|HasFacebook=True|RegistrationProccess=100%25|Balance=112321|DiamondsBalance=400|~ActionType=UpdatePlayerExperience|UpperExperienceLevel=4000|LowerExperienceLevel=0|Experience=2651|TotalExperience=52151|PeriodicExperience=1957|Rank=28|RankValue=28|Actions.~Count=0|MUId=1352076157702_8|MUIdServerIn=1352054559108|MUIdServerOut=1352054559108|MUIdServerAlazBeginOut=1352054559108\\x00']"
       ]
      }
     ], 
     "prompt_number": 55
    }, 
    {
     "cell_type": "markdown", 
     "source": [
      "Code to capture currently (until tshark >= 1.7.1):", 
      "", 
      "    tshark -i eth1  -V -Tfields -e data -f \"host 192.168.1.106 and (port 9400 or port 9500)\" | python2 -u hexdecode.py"
     ]
    }, 
    {
     "cell_type": "code", 
     "collapsed": true, 
     "input": [
      "# Current hexdecode.py...", 
      "", 
      "import sys", 
      "import re", 
      "", 
      "def cardmapper(val):", 
      "    vals = '23456789TJQKA'", 
      "    suits = 'cdhs'", 
      "    result = divmod(val, 13)", 
      "    return vals[result[1]] + suits[result[0]]", 
      "", 
      "if __name__ == \"__main__\":", 
      "    while 1:", 
      "        line = sys.stdin.readline()", 
      "        if not line: break", 
      "        try:", 
      "            decoded_line = line.strip().decode(\"hex\")", 
      "            data = re.split(\"[|]\", decoded_line)", 
      "            cards = [s for s in data if re.findall(\"Cards[0-4]=[0-9]\", s)]", 
      "            if cards:", 
      "                print [cardmapper(int(param.split('=')[1])) for param in cards]", 
      "            #sys.stdout.write(decoded_line)", 
      "        except:", 
      "            print line", 
      "            raise"
     ], 
     "language": "python", 
     "outputs": []
    }, 
    {
     "cell_type": "markdown", 
     "source": [
      "Alternative - run ngrep:", 
      "", 
      "     ngrep -Wnone -d eth1 host 192.168.1.106 and \\(port 9400 or port 9500\\)"
     ]
    }
   ]
  }
 ]
}